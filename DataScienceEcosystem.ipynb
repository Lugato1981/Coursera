{
 "cells": [
  {
   "cell_type": "markdown",
   "id": "224ff8f3-63de-4aa5-a95d-2f8b1aeab446",
   "metadata": {},
   "source": [
    "# Data Science Tools and Ecosystem"
   ]
  },
  {
   "cell_type": "markdown",
   "id": "8c0a75ab-2e1c-410f-8603-8fdc28bd1e8b",
   "metadata": {},
   "source": [
    "In this notebook, Data Science Tools and Ecosystem are summarized."
   ]
  },
  {
   "cell_type": "markdown",
   "id": "d29b0ae3-a1df-4d64-bc7a-e4947586330f",
   "metadata": {},
   "source": [
    "**Objectives**\n",
    "1. Popular languages for Data Science\n",
    "2. Commonly used libraries \n",
    "3. Creating a ordered list\n",
    "4. Examples of evaluating arithmetic expressions in Python\n",
    "5. Converting minutes in hours\n",
    "\n",
    "\n"
   ]
  },
  {
   "cell_type": "markdown",
   "id": "abe36873-da5b-40dc-b5f9-789424993b71",
   "metadata": {},
   "source": [
    "Some of the popular languages that Data Scientists use are:\n",
    "1. Python\n",
    "1. R\n",
    "1. SQL"
   ]
  },
  {
   "cell_type": "markdown",
   "id": "56179d97-64ea-4837-97f1-1602930f734f",
   "metadata": {},
   "source": [
    "Some of the commonly used libraries used by Data Scientists include:\n",
    "\n",
    "1. Tensor flow\n",
    "2. Pandas\n",
    "3. ggplot2"
   ]
  },
  {
   "cell_type": "markdown",
   "id": "9aadcbdb-7c89-458c-b847-58d7d6531480",
   "metadata": {},
   "source": [
    "|*Data Science Tools*|\n",
    "|------------------|\n",
    "|Apache Atlas|\n",
    "|Git|\n",
    "|Apache Hadoop|"
   ]
  },
  {
   "cell_type": "markdown",
   "id": "9ab8cc38-47a4-4e42-80c7-fe2db43ed1f5",
   "metadata": {},
   "source": [
    "Below are a few examples of evaluating arithmetic expressions in Python\n",
    "\n",
    "result = 5 + 3\n",
    "\n",
    "print(result) # Output: 8"
   ]
  },
  {
   "cell_type": "code",
   "execution_count": 2,
   "id": "bad033be-a269-4ee9-a369-382e0a73334e",
   "metadata": {},
   "outputs": [
    {
     "data": {
      "text/plain": [
       "17"
      ]
     },
     "execution_count": 2,
     "metadata": {},
     "output_type": "execute_result"
    }
   ],
   "source": [
    "#esta é uma expressão aritmética simples para adicionar vários números inteiros\n",
    "(3*4)+5"
   ]
  },
  {
   "cell_type": "code",
   "execution_count": 5,
   "id": "323ad2cd-2e72-4fe8-9358-0f870c78aed1",
   "metadata": {},
   "outputs": [
    {
     "name": "stdout",
     "output_type": "stream",
     "text": [
      "3.3333333333333335\n"
     ]
    }
   ],
   "source": [
    "#Isso converterá 200 minutos em horas\n",
    "\n",
    "minutos = 200\n",
    "horas = minutos / 60\n",
    "print(horas)"
   ]
  },
  {
   "cell_type": "markdown",
   "id": "e8566243-c01e-4d2d-a01e-190a99f12850",
   "metadata": {},
   "source": [
    "## Author\n",
    "\n",
    "Name: Gélio Colli Lugato Junior"
   ]
  }
 ],
 "metadata": {
  "kernelspec": {
   "display_name": "Python 3 (ipykernel)",
   "language": "python",
   "name": "python3"
  },
  "language_info": {
   "codemirror_mode": {
    "name": "ipython",
    "version": 3
   },
   "file_extension": ".py",
   "mimetype": "text/x-python",
   "name": "python",
   "nbconvert_exporter": "python",
   "pygments_lexer": "ipython3",
   "version": "3.11.9"
  }
 },
 "nbformat": 4,
 "nbformat_minor": 5
}
